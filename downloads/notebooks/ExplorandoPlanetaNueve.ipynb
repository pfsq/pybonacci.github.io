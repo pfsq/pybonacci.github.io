{
 "cells": [
  {
   "cell_type": "markdown",
   "metadata": {},
   "source": [
    "*Este notebook apareció originalmente como un post en*\n",
    "[*Pybonacci*](http://juanlu001.github.io/blog/2017/04/28/explorando-planeta-nueve/)\n",
    "*por Juan Luis Cano.  El código tiene licencia MIT.*"
   ]
  },
  {
   "cell_type": "markdown",
   "metadata": {},
   "source": [
    "# Introducción"
   ]
  },
  {
   "cell_type": "markdown",
   "metadata": {},
   "source": [
    "<!-- PELICAN_BEGIN_SUMMARY -->\n",
    "\n",
    "> \"Sometimes I think, how lucky we are to live in this time, the first moment in human history when we are, in fact visiting other worlds and engaging in a deep reconnaissance of the cosmos\" — Carl Sagan\n",
    "\n",
    "Cuando aún resonaban los ecos de la «expulsión» de Plutón de nuestro sistema planetario (o más bien, de su descenso a la división de los planetas enanos), de repente dos científicos del Instituto de Tecnología de California (Caltech para los amigos) publican un artículo en el que **hipotetizan la existencia de un planeta más masivo que la Tierra mucho más allá de la órbita de Neptuno**. Batygin y Brown, los responsables de la investigación, han bautizado a su _aún no observado_ descubrimiento como **Planeta Nueve**. No he podido evitar acordarme de la cita de Carl Sagan mientras escribía este artículo :)\n",
    "\n",
    "Para los detalles de este fantástico avance y un análisis de sus implicaciones os remito a [los excelentes artículos de Daniel Marín en Eurekablog acerca del \"Planeta Nueve\"](http://danielmarin.naukas.com/2016/01/20/estrechando-el-cerco-alrededor-del-planeta-x/). En Pybonacci vamos a aportar nuestro granito de arena, y como apasionados de la astronomía y del software libre que somos, vamos a darle una pasada al [artículo original de Batygin y Brown](http://iopscience.iop.org/article/10.3847/0004-6256/151/2/22/pdf) (disponible libremente en PDF) y jugar con los datos que ofrece como más nos gusta: usando Python ;)\n",
    "\n",
    "**Nota**: El análisis que se plantea a continuación no tiene el debido rigor científico y en ningún caso debe tomarse como un punto de partida para una búsqueda seria del Planeta Nueve. Dicho lo cual, si alguien lo encuentra gracias a este artículo por lo menos que me invite a un café :D",
    "<!-- PELICAN_END_SUMMARY -->"
   ]
  },
  {
   "cell_type": "markdown",
   "metadata": {},
   "source": [
    "# Python + Órbitas = poliastro\n",
    "\n",
    "Para este análisis vamos a utilizar [poliastro, una biblioteca Python para astrodinámica interplanetaria](http://poliastro.readthedocs.org/) que yo mismo estoy desarrollando. poliastro nos permitirá hacer cálculos con los elementos orbitales de los cuerpos que analicemos, y sus dependencias nos ayudarán en la tarea:\n",
    "\n",
    "* Gracias a [astropy](http://astropy.org/) podremos hacer conversiones entre sistemas de referencia, utilizar unidades físicas y manejar tiempos con rigor astronómico ([algo nada fácil](https://twitter.com/astrojuanlu/status/686168336330272768)).\n",
    "* La biblioteca [jplephem](https://pypi.python.org/pypi/jplephem) nos permitirá utilizar las efemérides del [Jet Propulsion Laboratory de la NASA](http://www.jpl.nasa.gov/) para localizar la posición de los planetas.\n",
    "\n",
    "Además, y como es natural utilizaremos NumPy, SciPy y matplotlib. Para instalar todo lo necesario solo necesitas ejecutar un comando:\n",
    "\n",
    "    $ conda install poliastro --channel poliastro\n",
    "\n",
    "Y también usando pip (porque en el fondo me caéis bien):\n",
    "\n",
    "    $ pip install numpy scipy matplotlib astropy jplephem poliastro\n",
    "\n",
    "(Nótese que numba es opcional)\n",
    "\n",
    "**Sin embargo**, escribiendo este artículo me he encontrado con cosas que no funcionaban y que he tenido que arreglar sobre la marcha, así que utilizaré una rama de desarrollo con algunos arreglos temporales:"
   ]
  },
  {
   "cell_type": "code",
   "execution_count": 1,
   "metadata": {},
   "outputs": [
    {
     "name": "stdout",
     "output_type": "stream",
     "text": [
      "Fetching package metadata: ..........\n",
      "Solving package specifications: ............................................\n",
      "# All requested packages already installed.\n",
      "# packages in environment at /home/juanlu/.miniconda3/envs/planet9:\n",
      "#\n",
      "poliastro                 0.4.3                    py35_1    file:///home/juanlu/.miniconda3/conda-bld/linux-64/poliastro-0.4.3-py35_1.tar.bz2\n"
     ]
    }
   ],
   "source": [
    "!conda install -qy poliastro --channel poliastro  # Instala las dependencias con conda"
   ]
  },
  {
   "cell_type": "code",
   "execution_count": 1,
   "metadata": {},
   "outputs": [
    {
     "name": "stdout",
     "output_type": "stream",
     "text": [
      "Uninstalling poliastro-0.5.dev0:\n",
      "  Successfully uninstalled poliastro-0.5.dev0\n",
      "\u001b[33mYou are using pip version 8.0.1, however version 8.0.2 is available.\n",
      "You should consider upgrading via the 'pip install --upgrade pip' command.\u001b[0m\n"
     ]
    }
   ],
   "source": [
    "!pip uninstall poliastro -y"
   ]
  },
  {
   "cell_type": "code",
   "execution_count": 3,
   "metadata": {},
   "outputs": [
    {
     "name": "stdout",
     "output_type": "stream",
     "text": [
      "Collecting https://github.com/poliastro/poliastro/archive/planet9-fixes.zip\n",
      "  Downloading https://github.com/poliastro/poliastro/archive/planet9-fixes.zip\n",
      "\u001b[K     / 966kB 14.7MB/s\n",
      "Requirement already satisfied (use --upgrade to upgrade): numpy in /home/juanlu/.miniconda3/envs/planet9/lib/python3.5/site-packages (from poliastro==0.5.dev0)\n",
      "Requirement already satisfied (use --upgrade to upgrade): numba>=0.23 in /home/juanlu/.miniconda3/envs/planet9/lib/python3.5/site-packages (from poliastro==0.5.dev0)\n",
      "Requirement already satisfied (use --upgrade to upgrade): astropy>=1.0 in /home/juanlu/.miniconda3/envs/planet9/lib/python3.5/site-packages (from poliastro==0.5.dev0)\n",
      "Requirement already satisfied (use --upgrade to upgrade): matplotlib in /home/juanlu/.miniconda3/envs/planet9/lib/python3.5/site-packages (from poliastro==0.5.dev0)\n",
      "Requirement already satisfied (use --upgrade to upgrade): jplephem in /home/juanlu/.miniconda3/envs/planet9/lib/python3.5/site-packages (from poliastro==0.5.dev0)\n",
      "Requirement already satisfied (use --upgrade to upgrade): scipy in /home/juanlu/.miniconda3/envs/planet9/lib/python3.5/site-packages (from poliastro==0.5.dev0)\n",
      "Requirement already satisfied (use --upgrade to upgrade): llvmlite in /home/juanlu/.miniconda3/envs/planet9/lib/python3.5/site-packages (from numba>=0.23->poliastro==0.5.dev0)\n",
      "Requirement already satisfied (use --upgrade to upgrade): python-dateutil in /home/juanlu/.miniconda3/envs/planet9/lib/python3.5/site-packages (from matplotlib->poliastro==0.5.dev0)\n",
      "Requirement already satisfied (use --upgrade to upgrade): pytz in /home/juanlu/.miniconda3/envs/planet9/lib/python3.5/site-packages (from matplotlib->poliastro==0.5.dev0)\n",
      "Requirement already satisfied (use --upgrade to upgrade): cycler in /home/juanlu/.miniconda3/envs/planet9/lib/python3.5/site-packages (from matplotlib->poliastro==0.5.dev0)\n",
      "Requirement already satisfied (use --upgrade to upgrade): pyparsing!=2.0.4,>=1.5.6 in /home/juanlu/.miniconda3/envs/planet9/lib/python3.5/site-packages (from matplotlib->poliastro==0.5.dev0)\n",
      "Requirement already satisfied (use --upgrade to upgrade): six>=1.5 in /home/juanlu/.miniconda3/envs/planet9/lib/python3.5/site-packages (from python-dateutil->matplotlib->poliastro==0.5.dev0)\n",
      "Building wheels for collected packages: poliastro\n",
      "  Running setup.py bdist_wheel for poliastro ... \u001b[?25l-\b \b\\\b \b|\b \bdone\n",
      "\u001b[?25h  Stored in directory: /home/juanlu/.cache/pip/wheels/98/83/5a/a5215dd3aaeec3828aca873c4342bc05b4b53605e31c1d1d60\n",
      "Successfully built poliastro\n",
      "Installing collected packages: poliastro\n",
      "Successfully installed poliastro-0.5.dev0\n",
      "\u001b[33mYou are using pip version 8.0.1, however version 8.0.2 is available.\n",
      "You should consider upgrading via the 'pip install --upgrade pip' command.\u001b[0m\n"
     ]
    }
   ],
   "source": [
    "#!pip install -e /home/juanlu/Development/Python/poliastro.org/poliastro\n",
    "!pip install https://github.com/poliastro/poliastro/archive/planet9-fixes.zip  # Instala la versión de desarrollo"
   ]
  },
  {
   "cell_type": "code",
   "execution_count": 4,
   "metadata": {},
   "outputs": [],
   "source": [
    "%load_ext version_information"
   ]
  },
  {
   "cell_type": "code",
   "execution_count": 5,
   "metadata": {},
   "outputs": [
    {
     "data": {
      "application/json": {
       "Software versions": [
        {
         "module": "Python",
         "version": "3.5.1 64bit [GCC 4.4.7 20120313 (Red Hat 4.4.7-1)]"
        },
        {
         "module": "IPython",
         "version": "4.0.3"
        },
        {
         "module": "OS",
         "version": "Linux 4.3.3 3 ARCH x86_64 with arch"
        },
        {
         "module": "numpy",
         "version": "1.10.2"
        },
        {
         "module": "astropy",
         "version": "1.1.1"
        },
        {
         "module": "scipy",
         "version": "0.16.1"
        },
        {
         "module": "matplotlib",
         "version": "1.5.1"
        },
        {
         "module": "numba",
         "version": "0.23.1"
        },
        {
         "module": "poliastro",
         "version": "0.5.dev0"
        }
       ]
      },
      "text/html": [
       "<table><tr><th>Software</th><th>Version</th></tr><tr><td>Python</td><td>3.5.1 64bit [GCC 4.4.7 20120313 (Red Hat 4.4.7-1)]</td></tr><tr><td>IPython</td><td>4.0.3</td></tr><tr><td>OS</td><td>Linux 4.3.3 3 ARCH x86_64 with arch</td></tr><tr><td>numpy</td><td>1.10.2</td></tr><tr><td>astropy</td><td>1.1.1</td></tr><tr><td>scipy</td><td>0.16.1</td></tr><tr><td>matplotlib</td><td>1.5.1</td></tr><tr><td>numba</td><td>0.23.1</td></tr><tr><td>poliastro</td><td>0.5.dev0</td></tr><tr><td colspan='2'>Tue Jan 26 23:27:16 2016 CET</td></tr></table>"
      ],
      "text/latex": [
       "\\begin{tabular}{|l|l|}\\hline\n",
       "{\\bf Software} & {\\bf Version} \\\\ \\hline\\hline\n",
       "Python & 3.5.1 64bit [GCC 4.4.7 20120313 (Red Hat 4.4.7-1)] \\\\ \\hline\n",
       "IPython & 4.0.3 \\\\ \\hline\n",
       "OS & Linux 4.3.3 3 ARCH x86\\_64 with arch \\\\ \\hline\n",
       "numpy & 1.10.2 \\\\ \\hline\n",
       "astropy & 1.1.1 \\\\ \\hline\n",
       "scipy & 0.16.1 \\\\ \\hline\n",
       "matplotlib & 1.5.1 \\\\ \\hline\n",
       "numba & 0.23.1 \\\\ \\hline\n",
       "poliastro & 0.5.dev0 \\\\ \\hline\n",
       "\\hline \\multicolumn{2}{|l|}{Tue Jan 26 23:27:16 2016 CET} \\\\ \\hline\n",
       "\\end{tabular}\n"
      ],
      "text/plain": [
       "Software versions\n",
       "Python 3.5.1 64bit [GCC 4.4.7 20120313 (Red Hat 4.4.7-1)]\n",
       "IPython 4.0.3\n",
       "OS Linux 4.3.3 3 ARCH x86_64 with arch\n",
       "numpy 1.10.2\n",
       "astropy 1.1.1\n",
       "scipy 0.16.1\n",
       "matplotlib 1.5.1\n",
       "numba 0.23.1\n",
       "poliastro 0.5.dev0\n",
       "Tue Jan 26 23:27:16 2016 CET"
      ]
     },
     "execution_count": 5,
     "metadata": {},
     "output_type": "execute_result"
    }
   ],
   "source": [
    "%version_information numpy, astropy, scipy, matplotlib, numba, poliastro"
   ]
  },
  {
   "cell_type": "markdown",
   "metadata": {},
   "source": [
    "# La órbita del Planeta Nueve\n",
    "\n",
    "No cuesta nada repetirlo: _no se conoce la órbita del Planeta Nueve_. Batygin y Brown en sus análisis lo que han hecho ha sido, parafraseando a Daniel Marín, _estrechar el cerco_ en torno a él. Sin embargo, en el artículo trabajan con valores característicos y eso sí podemos aprovecharlo - hasta cierto punto, como en seguida veremos.\n",
    "\n",
    "En el resumen del artículo tenemos esta frase:\n",
    "\n",
    "> We find that the observed orbital alignment can be maintained by **a distant eccentric planet** with mass $\\gtrsim 10 m_{\\bigoplus}$ **whose orbit lies in approximately the same plane as those of the distant KBOs, but whose perihelion\n",
    "is $180^{\\circ}$ away from the perihelia of the minor bodies**. [Énfasis mío]\n",
    "\n",
    "Al final del artículo, en la figura 9, tenemos los datos de la órbita tentativa utilizada para las simulaciones:\n",
    "\n",
    "* Ascensión del nodo $\\Omega = 100^{\\circ}$\n",
    "* Argumento del perigeo $\\omega = 150^{\\circ}$\n",
    "* Inclinación $i = 30^{\\circ}$\n",
    "* Semieje mayor $a = 700~\\text{AU}$\n",
    "* Excentricidad $e = 0.6$\n",
    "\n",
    "(La masa que tenga el planeta no nos afecta)\n",
    "\n",
    "Con esto ya podríamos representar la forma de la órbita, pero nos falta un parámetro crucial... ¿dónde está el Planeta Nueve _dentro de esta órbita_? Si lo supiéramos no estaríamos hablando de especulaciones. Averiguarlo no es fácil, porque con este semieje mayor estamos hablando de unos períodos larguísimos. ¡Manos a la obra!"
   ]
  },
  {
   "cell_type": "code",
   "execution_count": 6,
   "metadata": {},
   "outputs": [],
   "source": [
    "%matplotlib inline\n",
    "import matplotlib\n",
    "matplotlib.style.use('pybonacci')  # https://gist.github.com/Juanlu001/edb2bf7b583e7d56468a\n",
    "import matplotlib.pyplot as plt\n",
    "\n",
    "import numpy as np\n",
    "\n",
    "from astropy import time\n",
    "from astropy import units as u\n",
    "\n",
    "from poliastro.bodies import Sun\n",
    "from poliastro.twobody import angles, State\n",
    "from poliastro import ephem\n",
    "from poliastro.plotting import plot, OrbitPlotter\n",
    "\n",
    "epoch = time.Time(\"2015-01-24 12:00\", scale=\"utc\").tdb"
   ]
  },
  {
   "cell_type": "markdown",
   "metadata": {},
   "source": [
    "Vamos a crear un objeto `State` para representar Planeta Nueve, añadiendo a los parámetros estimados del artículo un valor de la anomalía verdadera de $180^{\\circ}$, es decir: en el punto más alejado (caso peor). El período de la órbita será:"
   ]
  },
  {
   "cell_type": "code",
   "execution_count": 7,
   "metadata": {},
   "outputs": [
    {
     "data": {
      "text/latex": [
       "$18520.609 \\; \\mathrm{yr}$"
      ],
      "text/plain": [
       "<Quantity 18520.6089636304 yr>"
      ]
     },
     "execution_count": 7,
     "metadata": {},
     "output_type": "execute_result"
    }
   ],
   "source": [
    "a = 700 * u.AU\n",
    "ecc=0.6 * u.one\n",
    "inc=30 * u.deg\n",
    "raan=100 * u.deg\n",
    "argp=150 * u.deg\n",
    "nu=180 * u.deg  # ¡Solo para probar!\n",
    "\n",
    "planet9 = State.from_classical(Sun, a, ecc, inc, raan, argp, nu,  # Solo para probar\n",
    "                               epoch)\n",
    "\n",
    "period = planet9.period.to(u.year)\n",
    "period"
   ]
  },
  {
   "cell_type": "markdown",
   "metadata": {},
   "source": [
    "Habéis leído bien: **este planeta tardaría casi 20 000 años en dar una vuelta alrededor del Sol**. Por comparar, el período del cometa Halley es de 75 años, y el de Plutón es de unos 250 años.\n",
    "\n",
    "Para visualizar la forma de la órbita no tenemos más que usar la función `plot`:"
   ]
  },
  {
   "cell_type": "code",
   "execution_count": 8,
   "metadata": {},
   "outputs": [
    {
     "data": {
      "text/plain": [
       "[<matplotlib.lines.Line2D at 0x7f4e12a65630>,\n",
       " <matplotlib.lines.Line2D at 0x7f4e129cb9b0>]"
      ]
     },
     "execution_count": 8,
     "metadata": {},
     "output_type": "execute_result"
    },
    {
     "data": {
      "image/png": "[encoded data removed]",
      "text/plain": [
       "<matplotlib.figure.Figure at 0x7f4e1acbf630>"
      ]
     },
     "metadata": {},
     "output_type": "display_data"
    }
   ],
   "source": [
    "plot(planet9)"
   ]
  },
  {
   "cell_type": "markdown",
   "metadata": {},
   "source": [
    "(Más abajo la representaremos junto a las órbitas de los planetas conocidos, pero la escala de la gráfica ya da una idea de las distancias que manejamos)\n",
    "\n",
    "Pero es que aún hay más: la órbita del Planeta Nueve sería **bastante excéntrica**, y por la [segunda ley de Kepler](https://en.wikipedia.org/wiki/Kepler's_laws_of_planetary_motion#Second_law) la mayor parte del tiempo estará en la parte **más alejada**. Vamos a intentar visualizar las consecuencias de esta tercera ley pintando dos regiones \"equiprobables\" de la órbita, es decir: el Planeta Nueve estará el 50 % del tiempo cada una de ellas."
   ]
  },
  {
   "cell_type": "code",
   "execution_count": 9,
   "metadata": {
    "collapsed": true
   },
   "outputs": [],
   "source": [
    "from matplotlib.patches import Wedge, PathPatch\n",
    "\n",
    "from mpl_toolkits.axes_grid1.inset_locator import zoomed_inset_axes\n",
    "from mpl_toolkits.axes_grid1.inset_locator import mark_inset"
   ]
  },
  {
   "cell_type": "code",
   "execution_count": 10,
   "metadata": {
    "collapsed": true
   },
   "outputs": [],
   "source": [
    "# Transformamos las anomalías medias de 90 y 270 grados en\n",
    "# anomalías verdaderas\n",
    "\n",
    "nu_lower = angles.M_to_nu(1 * np.pi * u.rad / 2, planet9.ecc)\n",
    "nu_upper = angles.M_to_nu(3 * np.pi * u.rad / 2, planet9.ecc)\n",
    "\n",
    "# Regiones equiprobables\n",
    "\n",
    "fifty_far = Wedge(\n",
    "    (0, 0), planet9.r_a.to(u.km).value,\n",
    "    nu_lower.to(u.deg).value, nu_upper.to(u.deg).value,\n",
    "    color='#cccccc',\n",
    "    zorder=0\n",
    ")\n",
    "fifty_close = Wedge(\n",
    "    (0, 0), planet9.r_a.to(u.km).value,\n",
    "    nu_upper.to(u.deg).value, nu_lower.to(u.deg).value,\n",
    "    color='#999999',\n",
    "    zorder=0\n",
    ")"
   ]
  },
  {
   "cell_type": "markdown",
   "metadata": {},
   "source": [
    "Para tener algo con lo que comparar vamos a pintar también las órbitas de la Tierra y Neptuno. Para ello poliastro utilizará unos ficheros llamados SPK que contienen información precisa sobre las órbitas de los planetas del sistema solar."
   ]
  },
  {
   "cell_type": "code",
   "execution_count": 11,
   "metadata": {
    "collapsed": true
   },
   "outputs": [],
   "source": [
    "# Recuperamos la órbita de la Tierra para comparar\n",
    "\n",
    "r_earth, v_earth = ephem.planet_ephem(ephem.EARTH, epoch)\n",
    "earth = State.from_vectors(Sun, r_earth.to(u.km), v_earth.to(u.km / u.s), epoch)\n",
    "\n",
    "# Y ya que nos ponemos, órbita de Neptuno\n",
    "\n",
    "r_nep, v_nep = ephem.planet_ephem(ephem.PLUTO, epoch)\n",
    "neptune = State.from_vectors(Sun, r_nep.to(u.km), v_nep.to(u.km / u.s), epoch)"
   ]
  },
  {
   "cell_type": "markdown",
   "metadata": {},
   "source": [
    "Para el resto tendremos que jugar un poco con matplotlib y las funciones de plotting que proporciona poliastro."
   ]
  },
  {
   "cell_type": "code",
   "execution_count": 12,
   "metadata": {},
   "outputs": [
    {
     "data": {
      "image/png": "[encoded data removed]",
      "text/plain": [
       "<matplotlib.figure.Figure at 0x7f4e0fcc8e48>"
      ]
     },
     "metadata": {},
     "output_type": "display_data"
    }
   ],
   "source": [
    "# Creamos la figura\n",
    "\n",
    "fig, ax = plt.subplots(figsize=(8, 8))\n",
    "\n",
    "op = OrbitPlotter(ax)\n",
    "planet9_point, planet9_orbit = op.plot(planet9)\n",
    "\n",
    "planet9_point.set_color(\"#6600ff\")\n",
    "planet9_orbit.set_color(\"#6600ff\")\n",
    "\n",
    "# Enmascaramos los sectores circulares con la órbita\n",
    "\n",
    "mask = PathPatch(planet9_orbit.get_path(), fc='none', lw=0)\n",
    "\n",
    "ax.add_patch(mask)\n",
    "ax.add_patch(fifty_far)\n",
    "ax.add_patch(fifty_close)\n",
    "\n",
    "fifty_far.set_clip_path(mask)\n",
    "fifty_close.set_clip_path(mask)\n",
    "\n",
    "# Zoom en el sistema Solar\n",
    "\n",
    "ax_zoom = zoomed_inset_axes(ax, 8, loc=3, axes_kwargs={'axisbg': '#fafafa'})\n",
    "\n",
    "# Repetimos algunos plots\n",
    "\n",
    "op_zoom = OrbitPlotter(ax_zoom)\n",
    "op_zoom.set_frame(*planet9.pqw())\n",
    "earth_point, earth_orbit = op_zoom.plot(earth)\n",
    "nepune_point, _ = op_zoom.plot(neptune)\n",
    "\n",
    "earth_orbit.set_linestyle(\"solid\")  # ¡Para que se vea algo!\n",
    "\n",
    "# Propiedades de la sección aumentada\n",
    "\n",
    "ax_zoom.set_xlim(-7e9, 5e9)\n",
    "ax_zoom.set_ylim(-4e9, 5e9)\n",
    "ax_zoom.set_xticks([])\n",
    "ax_zoom.set_yticks([])\n",
    "ax_zoom.set_xlabel(\"\")\n",
    "ax_zoom.set_ylabel(\"\")\n",
    "ax_zoom.grid(False)\n",
    "ax_zoom.set_title(\"8x zoom\")\n",
    "mark_inset(ax, ax_zoom, loc1=1, loc2=4, fc=\"none\", ec='0.3')\n",
    "\n",
    "# Leyenda de la gráfica\n",
    "\n",
    "leg = ax.legend(\n",
    "    [planet9_point, earth_point, nepune_point, fifty_close, fifty_far],\n",
    "    [\"Planeta 9\", \"Tierra\", \"Neptuno\", \"Perihelio\", \"Afelio\"],\n",
    "    numpoints=1\n",
    ")\n",
    "leg.get_frame().set_facecolor('#fafafa')"
   ]
  },
  {
   "cell_type": "markdown",
   "metadata": {},
   "source": [
    "En este gráfico se aprecian dos cosas:\n",
    "\n",
    "* Como hemos dicho antes, el Planeta Nueve pasa la mitad de su período en la parte más alejada del Sol (y por tanto, de nosotros), el **afelio** (sector gris claro). En cambio, la otra mitad del tiempo se la pasa acelerando hacia el **perihelio**. Es evidente entonces que lo más probable es que el planeta esté más lejos que cerca.\n",
    "* Y hablando de lejos: está muy lejos. *Extremadamente lejos*. Por supuesto está cerca comparado con Alfa Centauri, pero precisamente lo novedoso de este caso es que nadie esperaba encontrar un planeta con un tamaño tan considerable a una distancia tan grande.\n",
    "\n",
    "Otra forma de comprobar la enormidad de estas distancias es tratando de averiguar cuánto nos costaría llegar hasta allí. ¡Sigue leyendo!"
   ]
  },
  {
   "cell_type": "markdown",
   "metadata": {},
   "source": [
    "## ¿Cómo llegamos hasta allí?\n",
    "\n",
    "<div class=\"alert alert-warning\">**Importante**: Estos resultados son provisionales y están pendientes de revisión por problemas con el algoritmo, que no converge bien. De hecho se observa que he tenido que especificar una tolerancia relativa desmesurada. Después del tiempo dedicado he preferido publicar el código, que al menos muestra cómo utilizar la biblioteca, a pesar de que haya hecho aflorar sus limitaciones. [Ya he abierto una incidencia en poliastro](https://github.com/poliastro/poliastro/issues/112) para ver dónde está el problema, aunque posiblemente se deba a la fuerte inestabilidad numérica que supone acertar una diana que está a 168 000 000 000 km.</div>\n",
    "\n",
    "Ahora es donde empieza de verdad la ciencia ficción. Vamos a estudiar algunas trayectorias posibles que podríamos seguir para llegar a este hipotético Planeta Nueve, aunque lamentablemente obtengamos tiempos de cientos de años o velocidades inalcanzables con nuestra tecnología :)"
   ]
  },
  {
   "cell_type": "markdown",
   "metadata": {},
   "source": [
    "### Primera opción: Viaje directo\n",
    "\n",
    "Supongamos que lanzamos la nave la semana que viene (no hay tiempo que perder) y que nos planteásemos llegar en un tiempo optimista: 200 años. Supongamos también que en el momento del lanzamiento tenemos al Planeta Nueve en su afelio, que de hecho es el caso peor. El problema de calcular qué velocidad necesitamos para llegar se llama **problema de Lambert**, y con poliastro lo podemos resolver."
   ]
  },
  {
   "cell_type": "code",
   "execution_count": 13,
   "metadata": {
    "collapsed": true
   },
   "outputs": [],
   "source": [
    "from poliastro import iod\n",
    "from poliastro.util import norm"
   ]
  },
  {
   "cell_type": "code",
   "execution_count": 14,
   "metadata": {},
   "outputs": [],
   "source": [
    "date_launch = time.Time('2016-02-01 12:00', scale='utc').tdb\n",
    "time_of_flight = 200 * u.year\n",
    "date_arrival = date_launch + time_of_flight\n",
    "\n",
    "r_0, v_earth = ephem.planet_ephem(ephem.EARTH, date_launch)\n",
    "\n",
    "r_f = planet9.propagate(time_of_flight).r\n",
    "\n",
    "v_0, v_f = iod.lambert(Sun.k, r_0, r_f, time_of_flight, rtol=5)"
   ]
  },
  {
   "cell_type": "markdown",
   "metadata": {},
   "source": [
    "Veamos la magnitud de la velocidad de partida:"
   ]
  },
  {
   "cell_type": "code",
   "execution_count": 15,
   "metadata": {},
   "outputs": [
    {
     "data": {
      "text/latex": [
       "$224320.63 \\; \\mathrm{\\frac{km}{h}}$"
      ],
      "text/plain": [
       "<Quantity 224320.63064931866 km / h>"
      ]
     },
     "execution_count": 15,
     "metadata": {},
     "output_type": "execute_result"
    }
   ],
   "source": [
    "(norm(v_0 - v_earth)).to(u.km / u.h)"
   ]
  },
  {
   "cell_type": "markdown",
   "metadata": {},
   "source": [
    "No es demasiado descabellada, teniendo en cuenta que la velocidad de lanzamiento de New Horizons (que llegó a Plutón en menos de 10 años) fue de casi 60 000 km/h. Veamos ahora esta trayectoria:"
   ]
  },
  {
   "cell_type": "code",
   "execution_count": 16,
   "metadata": {},
   "outputs": [
    {
     "data": {
      "text/plain": [
       "[<matplotlib.lines.Line2D at 0x7f4e0fcb5240>,\n",
       " <matplotlib.lines.Line2D at 0x7f4e0f1e8400>]"
      ]
     },
     "execution_count": 16,
     "metadata": {},
     "output_type": "execute_result"
    },
    {
     "data": {
      "image/png": "[encoded data removed]",
      "text/plain": [
       "<matplotlib.figure.Figure at 0x7f4e0fd56e10>"
      ]
     },
     "metadata": {},
     "output_type": "display_data"
    }
   ],
   "source": [
    "traj1 = State.from_vectors(\n",
    "    Sun,\n",
    "    r_0.to(u.km),\n",
    "    v_0.to(u.km / u.s),\n",
    "    date_launch\n",
    ")\n",
    "\n",
    "op = OrbitPlotter(num_points=10000)\n",
    "\n",
    "op.plot(planet9.propagate(time_of_flight))\n",
    "#op.plot(earth)\n",
    "plt.gca().set_autoscale_on(False)\n",
    "op.plot(traj1)"
   ]
  },
  {
   "cell_type": "markdown",
   "metadata": {},
   "source": [
    "Prácticamente en línea recta, ¡como si fuese esto una autopista! Lamentablemente 200 años es demasiado tiempo, y si intentamos reducirlo los requisitos de velocidad solo empeorarían. Veamos otras opción un poco más loca."
   ]
  },
  {
   "cell_type": "markdown",
   "metadata": {},
   "source": [
    "### Efecto Oberth con el Sol\n",
    "\n",
    "Al leer esta posibilidad no he podido evitar acordarme de la entrañable viñeta de XKCD:\n",
    "\n",
    "![Obert](http://imgs.xkcd.com/comics/six_words.png)\n",
    "\n",
    "El efecto Oberth es el hecho de que *las maniobras impulsivas son más eficientes cuanto más rápido va el vehículo*. Gracias a esto se podría diseñar una trayectoria que pasase muy cerca del Sol y que efectuase un gran impulso en el perihelio. La secuencia de la viñeta es demasiado complicada así que vamos a dividir este recorrido en dos partes:\n",
    "\n",
    "1. Una transferencia de Hohmann a 38 millones de kilómetros del Sol, y\n",
    "2. un impulso para alcanzar la órbita del Planeta Nueve en 100 años.\n",
    "\n",
    "Veremos qué números obtenemos ahora:"
   ]
  },
  {
   "cell_type": "code",
   "execution_count": 17,
   "metadata": {
    "collapsed": true
   },
   "outputs": [],
   "source": [
    "from poliastro.maneuver import Maneuver"
   ]
  },
  {
   "cell_type": "code",
   "execution_count": 18,
   "metadata": {},
   "outputs": [
    {
     "data": {
      "text/latex": [
       "$26.644522 \\; \\mathrm{\\frac{km}{s}}$"
      ],
      "text/plain": [
       "<Quantity 26.644521834769144 km / s>"
      ]
     },
     "execution_count": 18,
     "metadata": {},
     "output_type": "execute_result"
    }
   ],
   "source": [
    "hoh = Maneuver.hohmann(earth, 38e6 * u.km)\n",
    "hoh.get_total_cost()"
   ]
  },
  {
   "cell_type": "markdown",
   "metadata": {},
   "source": [
    "El frenazo que tenemos que pegar es considerable. Viajemos ahora al perihelio y efectuemos la transferencia."
   ]
  },
  {
   "cell_type": "code",
   "execution_count": 19,
   "metadata": {},
   "outputs": [
    {
     "data": {
      "text/latex": [
       "$37630210 \\; \\mathrm{km}$"
      ],
      "text/plain": [
       "<Quantity 37630209.77673668 km>"
      ]
     },
     "execution_count": 19,
     "metadata": {},
     "output_type": "execute_result"
    }
   ],
   "source": [
    "interm = earth.apply_maneuver(hoh)\n",
    "perih = interm.propagate(interm.period / 2)\n",
    "norm(perih.r)"
   ]
  },
  {
   "cell_type": "code",
   "execution_count": 20,
   "metadata": {},
   "outputs": [
    {
     "data": {
      "text/latex": [
       "$59.625601 \\; \\mathrm{\\frac{km}{s}}$"
      ],
      "text/plain": [
       "<Quantity 59.62560141879157 km / s>"
      ]
     },
     "execution_count": 20,
     "metadata": {},
     "output_type": "execute_result"
    }
   ],
   "source": [
    "norm(perih.v)"
   ]
  },
  {
   "cell_type": "markdown",
   "metadata": {},
   "source": [
    "La diferencia de radios se debe a que no partíamos de una órbita circular. Nos hemos saltado el paso de circularizar la órbita para simplificar.\n",
    "\n",
    "Por último, rezamos para que el algoritmo del problema de Lambert converja y nos lleve hasta el Planeta Nueve:"
   ]
  },
  {
   "cell_type": "code",
   "execution_count": 21,
   "metadata": {},
   "outputs": [
    {
     "data": {
      "text/latex": [
       "$84.05882 \\; \\mathrm{\\frac{km}{s}}$"
      ],
      "text/plain": [
       "<Quantity 84.05882035151672 km / s>"
      ]
     },
     "execution_count": 21,
     "metadata": {},
     "output_type": "execute_result"
    }
   ],
   "source": [
    "v_i, _ = iod.lambert(Sun.k, perih.r.to(u.km), planet9.r.to(u.km), 100 * u.year, rtol=12)  # De nuevo, tolerancia demasiado grande\n",
    "norm(v_i)"
   ]
  },
  {
   "cell_type": "markdown",
   "metadata": {},
   "source": [
    "Y el requisito total de velocidad será:"
   ]
  },
  {
   "cell_type": "code",
   "execution_count": 22,
   "metadata": {},
   "outputs": [
    {
     "data": {
      "text/latex": [
       "$149.06333 \\; \\mathrm{\\frac{km}{s}}$"
      ],
      "text/plain": [
       "<Quantity 149.0633339332227 km / s>"
      ]
     },
     "execution_count": 22,
     "metadata": {},
     "output_type": "execute_result"
    }
   ],
   "source": [
    "hoh.get_total_cost() + norm(v_i - perih.v)"
   ]
  },
  {
   "cell_type": "markdown",
   "metadata": {},
   "source": [
    "Caramba, ¡mucho más alto que antes! Intentamos pintarlo todo:"
   ]
  },
  {
   "cell_type": "code",
   "execution_count": 23,
   "metadata": {},
   "outputs": [
    {
     "data": {
      "text/plain": [
       "[<matplotlib.lines.Line2D at 0x7f4e0f1ccf98>,\n",
       " <matplotlib.lines.Line2D at 0x7f4e0f1d0710>]"
      ]
     },
     "execution_count": 23,
     "metadata": {},
     "output_type": "execute_result"
    },
    {
     "data": {
      "image/png": "[encoded data removed]",
      "text/plain": [
       "<matplotlib.figure.Figure at 0x7f4e0f15c860>"
      ]
     },
     "metadata": {},
     "output_type": "display_data"
    }
   ],
   "source": [
    "op = OrbitPlotter(num_points=10000)\n",
    "\n",
    "op.plot(earth)\n",
    "op.plot(interm)\n",
    "op.plot(perih)\n",
    "plt.gca().set_autoscale_on(False)\n",
    "#op.plot(planet9)\n",
    "op.plot(State.from_vectors(Sun, perih.r, v_i))"
   ]
  },
  {
   "cell_type": "markdown",
   "metadata": {},
   "source": [
    "El motivo del altísimo coste de la maniobra es ese cambio radical de dirección en la trayectoria heliocéntrica que le hemos exigido a nuestra misión. Como se ha señalado arriba, esta forma de calcular la trayectoria tiene numerosos problemas y necesita una revisión urgente."
   ]
  },
  {
   "cell_type": "markdown",
   "metadata": {},
   "source": [
    "## Conclusiones\n",
    "\n",
    "El otro día señalaban por Twitter que [también debemos publicar los resultados negativos](http://scitechconnect.elsevier.com/why-science-needs-to-publish-negative-results), y aquí están los míos. Por un lado, poliastro tiene algunas limitaciones en sus algoritmos que han puesto en duda la precisión de los resultados, aunque en las gráficas no se aprecie demasiado. Por otro lado, esta forma de diseñar las trayectorias es demasiado apresurada y conduce a situaciones absurdas, así que el tema merece más tiempo incluso a este nivel divulgativo y nada riguroso (más que los cuatro días que he tardado yo en publicar esto). En el próximo mes y medio estaré trabajando intensamente en poliastro así que posiblemente pueda hacer avances en este sentido :)\n",
    "\n",
    "Querría desde aquí agradecer a las [más de 100 personas que me retuitearon el viernes en Pybonacci](\n",
    "https://twitter.com/Pybonacci/status/690554406442569730) y a Daniel Marín por la increíble calidad de sus artículos (mucho más finos que estos por suerte).\n",
    "\n",
    "¡Un saludo y hasta el próximo artículo!"
   ]
  }
 ],
 "metadata": {
  "kernelspec": {
   "display_name": "Python 3",
   "language": "python",
   "name": "python3"
  },
  "language_info": {
   "codemirror_mode": {
    "name": "ipython",
    "version": 3
   },
   "file_extension": ".py",
   "mimetype": "text/x-python",
   "name": "python",
   "nbconvert_exporter": "python",
   "pygments_lexer": "ipython3",
   "version": "3.6.1"
  }
 },
 "nbformat": 4,
 "nbformat_minor": 1
}
