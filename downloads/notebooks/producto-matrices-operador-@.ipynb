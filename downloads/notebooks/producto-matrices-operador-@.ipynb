{
 "cells": [
  {
   "cell_type": "markdown",
   "metadata": {},
   "source": [
    "# Introducción."
   ]
  },
  {
   "cell_type": "markdown",
   "metadata": {},
   "source": [
    "El 13 de septiembre de 2015 fue lanzada la versión 3.5 de Python. Entre las [novedades](https://docs.python.org/3/whatsnew/3.5.html) podemos encontrar la inclusión del [PEP 465](http://legacy.python.org/dev/peps/pep-0465/) que trata sobre el nuevo operador `@` para la multipliación matricial y del que hablaremos en este post. Como bien sabrán los lectores de este blog, los arrays son la piedra angular de numerosísimas áreas de la programación científica y sirven para realizar operaciones de forma masiva y mucho más eficiente. Esto, sumado a la posibilidad de utilizarlos como matrices, proporcionan una herramienta muy potente para llevar a cabo operaciones algebraicas. NumPy es la librería de Python que nos permite utilizar esta maravillosa estructura de datos y según figura en el ya citado [PEP 465](http://legacy.python.org/dev/peps/pep-0465/#but-isn-t-matrix-multiplication-a-pretty-niche-requirement), podría ser la librería fuera de la librería estándar más importada del mundo Python. A modo de recordatorio:"
   ]
  },
  {
   "cell_type": "code",
   "execution_count": 1,
   "metadata": {
    "collapsed": true
   },
   "outputs": [],
   "source": [
    "import numpy as np\n",
    "\n",
    "a = np.random.rand(1000, 1000)\n",
    "b = np.random.rand(1000, 1000)"
   ]
  },
  {
   "cell_type": "code",
   "execution_count": 2,
   "metadata": {},
   "outputs": [
    {
     "name": "stdout",
     "output_type": "stream",
     "text": [
      "1.25 ms ± 100 µs per loop (mean ± std. dev. of 7 runs, 1000 loops each)\n"
     ]
    }
   ],
   "source": [
    "%timeit c = a + b"
   ]
  },
  {
   "cell_type": "code",
   "execution_count": 3,
   "metadata": {
    "collapsed": true
   },
   "outputs": [],
   "source": [
    "c = np.empty_like(a)"
   ]
  },
  {
   "cell_type": "code",
   "execution_count": 4,
   "metadata": {},
   "outputs": [
    {
     "name": "stdout",
     "output_type": "stream",
     "text": [
      "426 ms ± 37.5 ms per loop (mean ± std. dev. of 7 runs, 1 loop each)\n"
     ]
    }
   ],
   "source": [
    "%%timeit\n",
    "for ii in range(a.shape[0]):\n",
    "    for jj in range(a.shape[1]):\n",
    "        c[ii, jj] = a[ii, jj] + b[ii, jj]"
   ]
  },
  {
   "cell_type": "markdown",
   "metadata": {},
   "source": [
    "No hace falta decir nada acerca de las ventajas de una u otra implementación."
   ]
  },
  {
   "cell_type": "markdown",
   "metadata": {},
   "source": [
    "# La situación previa."
   ]
  },
  {
   "cell_type": "markdown",
   "metadata": {},
   "source": [
    "Todo esto está muy bien, pero el problema se presentaba a la hora de hacer multiplicaciones. El operador `*` en los `numpy.ndarray` realiza multiplicaciones elemento a elemento por lo que, hasta ahora, había dos posibilidades si lo que uno quería era hacer una multiplicación matricial: \n",
    "\n",
    "1. Usar la función o el método `dot`.\n",
    "2. Usar la clase `numpy.matrix` para la cual el operador `*` sí devuelve el producto matricial."
   ]
  },
  {
   "cell_type": "markdown",
   "metadata": {},
   "source": [
    "Los inconvenientes de la primera opción resultan evidentes cuando hay que implementar una fórmula del tipo: \n",
    "\n",
    "$$ \\textbf{K}_k = \\textbf{P}_{k|k-1}\\textbf{H}_k^\\text{T}(\\textbf{H}_k \\textbf{P}_{k|k-1} \\textbf{H}_k^\\text{T} + \\textbf{R}_k)^{-1} $$\n",
    "\n",
    "que para los curiosos es la ganancia óptima de un [filtro de Kalman](https://en.wikipedia.org/wiki/Kalman_filter) y que plasmado en código quedaría algo así como:"
   ]
  },
  {
   "cell_type": "markdown",
   "metadata": {},
   "source": [
    "```python\n",
    "from scipy.linalg import inv\n",
    "K = np.dot(np.dot(P, H.T), inv(np.dot(np.dot(H, P), H.T) + R))\n",
    "```"
   ]
  },
  {
   "cell_type": "markdown",
   "metadata": {},
   "source": [
    "Utilizando el método `dot` en lugar de la función, la cosa mejora algo en cuando a la longitud de la línea, pero poco en cuanto a la legibilidad:"
   ]
  },
  {
   "cell_type": "markdown",
   "metadata": {},
   "source": [
    "```python\n",
    "K = P.dot(H.T).dot(inv(H.dot(P).dot(H.T) + R))\n",
    "```"
   ]
  },
  {
   "cell_type": "markdown",
   "metadata": {},
   "source": [
    "En estas circunstancias podríamos pensar en utilizar la clase `numpy.matrix` en lugar de la clase `numpy.ndarray` e implementar la fórmula anterior de una manera mucho más natural:"
   ]
  },
  {
   "cell_type": "markdown",
   "metadata": {
    "collapsed": true
   },
   "source": [
    "```python\n",
    "K = P * H.T + (H * P * H.T + R )\n",
    "```"
   ]
  },
  {
   "cell_type": "markdown",
   "metadata": {},
   "source": [
    "que como vemos es inmediatamente equiparable a lo que se puede leer en un libro. El problema viene cuando empaquetamos esta fórmula en una función y a alguien se le ocurre pasarle como entrada un `numpy.ndarray`: la función **devolverá un resultado, sí, pero un resultado incorrecto** y que es probable que sea de un orden de magnitud comparable al esperado. Conclusión: estaríamos ante el problema que a cualquiera le gustaría encontrarse en un código, un resultado incorrecto y del orden de magnitud del esperado que viene de vaya usted a saber dónde... Por este motivo `numpy.matrix` está altamente desaconsejado por la propia comunidad NumPy. Se podría utilizar utilizar la programación defensiva para detectar y corregir esta situación, sin emabrgo, en ese caso nuestras funciones comenzarían a estar plagadas de `isinstance(arr, np.ndarray)` y similares."
   ]
  },
  {
   "cell_type": "markdown",
   "metadata": {},
   "source": [
    "# La solución."
   ]
  },
  {
   "cell_type": "markdown",
   "metadata": {},
   "source": [
    "El ejemplo anterior muestra que las [múltiples soluciones posibles](http://legacy.python.org/dev/peps/pep-0465/#rejected-alternatives-to-adding-a-new-operator), la de asociar la multiplicación matricial a una clase a través de un operador y la multiplicación elemento a elemento a otra con el mismo operador no era la más recomendable. En lugar de diferenciar por clases, parecía más lógico diferenciar por operador binario para poder realizar esta operación de forma cómoda. Además, en el PEP 465 se lleva a cabo una estimación de lo útil que sería tener un operador cómo este comparando el número de veces que se usa la función dot con respecto a los operadores binarios en varios proyectos y la conclusión es abrumadora: la multiplicación de matrices es, en estos paquetes, más frecuente que la mayoría de operadores de comparación (`<=`, `>=`, `!=` ...), la división entera (`//`) o las operaciones \"inline\" (`+=`, `*=` ...). Una vez justificada la necesidad, la siguiente pregunta es tan obvia como difícil de consensuar: ¿qué símbolo asociamos al operador?\n",
    "\n",
    "El resultado final resultó ser utilizar el caracter `@` ya que parecía ser una buena elección por los siguientes motivos (algunos incluso graciosos):\n",
    "* Los usuarios están acostumbrados a usarlo en los decoradores y sin embargo no introduce ninguna incompatibilidad. Tampoco resulta fácil confundir un decorador como `@property` con una multiplicación como `H @ P @ H.T`.\n",
    "* Está presente en numerosas disposiciones de teclado.\n",
    "* Es redondo como `*` y `·`.\n",
    "* La regla nemotécnica m**AT**rices es ingeniosa.\n",
    "* Su forma curvada recuerda a las pasadas sobre filas y columnas que hay que hacer en un producto matricial.\n",
    "* Su asimetría evoca la no conmutatividad de la operación.\n",
    "* Y por último: *da igual, había que escoger alguno...*\n",
    "\n"
   ]
  },
  {
   "cell_type": "markdown",
   "metadata": {},
   "source": [
    "# Funcionamiento. "
   ]
  },
  {
   "cell_type": "markdown",
   "metadata": {
    "collapsed": true
   },
   "source": [
    "Repasada la historia que precede a la introducción de este operador, vayamos a la parte práctica: ¿cómo se usa? Volviendo al ejemplo anterior. La fórmula quedaría:"
   ]
  },
  {
   "cell_type": "markdown",
   "metadata": {
    "collapsed": true
   },
   "source": [
    "```python\n",
    "K = P @ H.T + (H @ P @ H.T + R )\n",
    "```"
   ]
  },
  {
   "cell_type": "markdown",
   "metadata": {},
   "source": [
    "En este caso, todos las operaciones son entre \"matrices\", o siendo puristas, entre arrays de dos dimensiones. Si las dimensiones son las adecuadas, los productos y sumas se calcularán sin problemas.\n",
    "\n",
    "Además, esta operación también está definida entre arrays de una dimensión y arrays de dos. Este caso coresponde a premultiplicar una matriz por un vector fila, dando como resultado un vector fila; o postmultiplicar por un vector columna, obteniendo otro vector columna. Pero veamos qué ocurre realmente:"
   ]
  },
  {
   "cell_type": "code",
   "execution_count": 5,
   "metadata": {},
   "outputs": [
    {
     "data": {
      "text/plain": [
       "array([23, 67, 66, 49])"
      ]
     },
     "execution_count": 5,
     "metadata": {},
     "output_type": "execute_result"
    }
   ],
   "source": [
    "mat = np.array([[1, 5, 8, 5],\n",
    "                [0, 6, 4, 2],\n",
    "                [9, 3, 1, 6]])\n",
    "\n",
    "vec1 = np.array([5, 6, 2])\n",
    "\n",
    "vec1 @ mat"
   ]
  },
  {
   "cell_type": "code",
   "execution_count": 6,
   "metadata": {},
   "outputs": [
    {
     "data": {
      "text/plain": [
       "array([31, 14, 27])"
      ]
     },
     "execution_count": 6,
     "metadata": {},
     "output_type": "execute_result"
    }
   ],
   "source": [
    "vec2 = np.array([2, 0, 3, 1])\n",
    "\n",
    "mat @ vec2"
   ]
  },
  {
   "cell_type": "markdown",
   "metadata": {},
   "source": [
    "Vemos que en ambos casos el resultado es *casi* el descrito arriba. La diferencia radica en que no hemos obtenido un vector fila o columna, sino simplemente un array unidimensional. ¿Cuál es el procedimiento interno? El atributo `shape` de un array de una dimensión devuelve una tupla con un solo valor igual al número de elementos, en una \"matriz\" devuelve dos elementos que corresponden al número de filas y columnas:"
   ]
  },
  {
   "cell_type": "code",
   "execution_count": 7,
   "metadata": {},
   "outputs": [
    {
     "data": {
      "text/plain": [
       "(3,)"
      ]
     },
     "execution_count": 7,
     "metadata": {},
     "output_type": "execute_result"
    }
   ],
   "source": [
    "vec1.shape"
   ]
  },
  {
   "cell_type": "code",
   "execution_count": 8,
   "metadata": {},
   "outputs": [
    {
     "data": {
      "text/plain": [
       "(3, 4)"
      ]
     },
     "execution_count": 8,
     "metadata": {},
     "output_type": "execute_result"
    }
   ],
   "source": [
    "mat.shape"
   ]
  },
  {
   "cell_type": "markdown",
   "metadata": {},
   "source": [
    "Si estamos multiplicando por una matriz, al vector se le añadirá una dimensión más de tamaño unidad *por el exterior*. Esto quiere decir que:\n",
    "* `vec1(3) @ mat(3, 4)` pasará a ser `vec1(`**1**`, 3) @ mat(3, 4)`.\n",
    "* `mat(3, 4) @ vec2(4)` pasará a ser `mat(3, 4) @ vec2(4, `**1**`)`.\n",
    "\n",
    "La operación se realiza, en realidad, entre arrays bidimensionales y finalmente el resultado se convierte a un array unidimensional. Esto nos evita el tener que explicar a un principiante que la forma de hacer esta operación es:"
   ]
  },
  {
   "cell_type": "code",
   "execution_count": 9,
   "metadata": {},
   "outputs": [
    {
     "data": {
      "text/plain": [
       "array([[23, 67, 66, 49]])"
      ]
     },
     "execution_count": 9,
     "metadata": {},
     "output_type": "execute_result"
    }
   ],
   "source": [
    "vec1[np.newaxis, :] @ mat"
   ]
  },
  {
   "cell_type": "code",
   "execution_count": 10,
   "metadata": {},
   "outputs": [
    {
     "data": {
      "text/plain": [
       "array([[23, 67, 66, 49]])"
      ]
     },
     "execution_count": 10,
     "metadata": {},
     "output_type": "execute_result"
    }
   ],
   "source": [
    "vec1.reshape(1, -1) @ mat"
   ]
  },
  {
   "cell_type": "markdown",
   "metadata": {},
   "source": [
    "Que sin emabrgo, sí devuelven \"vectores fila\" o \"columna\" según corresponda. Pero... ¿quién querría escribir algo como esto?"
   ]
  },
  {
   "cell_type": "code",
   "execution_count": 11,
   "metadata": {},
   "outputs": [
    {
     "data": {
      "text/plain": [
       "293"
      ]
     },
     "execution_count": 11,
     "metadata": {},
     "output_type": "execute_result"
    }
   ],
   "source": [
    "(vec1[np.newaxis, :] @ mat @ vec2[:, np.newaxis])[0, 0]"
   ]
  },
  {
   "cell_type": "markdown",
   "metadata": {},
   "source": [
    "en lugar de:"
   ]
  },
  {
   "cell_type": "code",
   "execution_count": 12,
   "metadata": {},
   "outputs": [
    {
     "data": {
      "text/plain": [
       "293"
      ]
     },
     "execution_count": 12,
     "metadata": {},
     "output_type": "execute_result"
    }
   ],
   "source": [
    "vec1 @ mat @ vec2"
   ]
  },
  {
   "cell_type": "markdown",
   "metadata": {},
   "source": [
    "Cabe resaltar que la asociatividad del operador indica que la operación se realizará en el siguiente orden:"
   ]
  },
  {
   "cell_type": "code",
   "execution_count": 13,
   "metadata": {},
   "outputs": [
    {
     "data": {
      "text/plain": [
       "293"
      ]
     },
     "execution_count": 13,
     "metadata": {},
     "output_type": "execute_result"
    }
   ],
   "source": [
    "(vec1 @ mat) @ vec2"
   ]
  },
  {
   "cell_type": "markdown",
   "metadata": {},
   "source": [
    "Por lo que en algunos casos los paréntesis pueden hacernos ganar algo de velocidad:"
   ]
  },
  {
   "cell_type": "code",
   "execution_count": 14,
   "metadata": {
    "collapsed": true
   },
   "outputs": [],
   "source": [
    "mat = np.random.randn(1000, 1000)\n",
    "vec = np.random.randn(1000)"
   ]
  },
  {
   "cell_type": "code",
   "execution_count": 15,
   "metadata": {},
   "outputs": [
    {
     "name": "stdout",
     "output_type": "stream",
     "text": [
      "13.3 ms ± 262 µs per loop (mean ± std. dev. of 7 runs, 100 loops each)\n"
     ]
    }
   ],
   "source": [
    "%timeit mat.T @ mat @ vec"
   ]
  },
  {
   "cell_type": "code",
   "execution_count": 16,
   "metadata": {},
   "outputs": [
    {
     "name": "stdout",
     "output_type": "stream",
     "text": [
      "317 µs ± 8.31 µs per loop (mean ± std. dev. of 7 runs, 1000 loops each)\n"
     ]
    }
   ],
   "source": [
    "% timeit mat.T @ (mat @ vec)"
   ]
  },
  {
   "cell_type": "markdown",
   "metadata": {},
   "source": [
    "¿Se te ocurre por qué?\n",
    "\n",
    "La última característica que resaltaremos muy rápidamente es el broadcasting, que nos permite hacer multiplicaciones matriciales de forma masiva. Así: `arr(100, 10, 3) @ arr(100, 3, 5)` realizará 100 multiplicaciones de matrices de `(10x3) @ (3X5)` devolviendo `arr(100, 10, 5)` con el resultado de cada multiplicación a lo largo de la primera dimensión. Incluso podríamos hacer algo como: `arr(100, 10, 5) @ vec(5)` ¿Te atreves a explicarnos lo que saldrá de aquí? Este tipo de operaciones no se pueden hacer con la función `dot` y habría que recurrir a la función `matmul` [2]."
   ]
  },
  {
   "cell_type": "markdown",
   "metadata": {},
   "source": [
    "# Conclusiones."
   ]
  },
  {
   "cell_type": "markdown",
   "metadata": {},
   "source": [
    "El nuevo operador `@` es realmente útil para una parte amplia de la comunidad Python. Prueba de ello es la rápida acogida que ha tenido en librerías tan relevantes como: pandas, numpy, blaze o theano. Su introducción no supone ninguna incompatibilidad y además facilitará enormemente la lectura y escritura de código científico. \n",
    "\n",
    "No menos importante, es que Python se mostrará como un lenguaje mucho más cómodo y fácil para los principiantes (y no tan principiantes) manteniendo la coherencia con varios puntos de su Zen (`import this`): \"Beautiful is better than ugly\", \"flat is better than nested\", \"readability counts\", \"there should be one-- and preferably only one --obvious way to do it\"; y, por supuesto, \"now is better than never\" y \"special cases ~~aren't~~ **are sometimes** special enough to ~~break~~ **change** the rules\".\n",
    "\n",
    "Por último, cabe destacar que una de nuestras librerías favoritas, SymPy, seguirá usando `*` para la multiplicación de matrices, al menos de momento, ya que la multiplicación elemento a elemento no tiene gran relevancia en el contexto del cálculo simbólico.\n",
    "\n",
    "¿Qué te parece a ti el nuevo operador? ¿Lo usas actualmente? ¿Adaptarás tu código antiguo? Cuéntanoslo en los comentarios."
   ]
  },
  {
   "cell_type": "markdown",
   "metadata": {},
   "source": [
    "# Referencias. "
   ]
  },
  {
   "cell_type": "markdown",
   "metadata": {},
   "source": [
    "[1] [PEP 465](http://legacy.python.org/dev/peps/pep-0465/)\n",
    "\n",
    "[2] [Stackoverflow: Difference between numpy dot() and Python 3.5+ matrix multiplication @](http://stackoverflow.com/questions/34142485/difference-between-numpy-dot-and-python-3-5-matrix-multiplication)"
   ]
  }
 ],
 "metadata": {
  "kernelspec": {
   "display_name": "Python 3",
   "language": "python",
   "name": "python3"
  },
  "language_info": {
   "codemirror_mode": {
    "name": "ipython",
    "version": 3
   },
   "file_extension": ".py",
   "mimetype": "text/x-python",
   "name": "python",
   "nbconvert_exporter": "python",
   "pygments_lexer": "ipython3",
   "version": "3.6.2"
  }
 },
 "nbformat": 4,
 "nbformat_minor": 1
}
