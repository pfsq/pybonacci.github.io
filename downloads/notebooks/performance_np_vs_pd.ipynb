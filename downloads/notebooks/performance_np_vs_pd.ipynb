{
 "cells": [
  {
   "cell_type": "markdown",
   "metadata": {},
   "source": [
    "# Introducción\n",
    "\n",
    "<!-- PELICAN_BEGIN_SUMMARY -->\n",
    "\n",
    "Hace varias semanas salió un [proyecto muy interesante](https://github.com/mm-mansour/Fast-Pandas) en el que se compara la performance  de `Pandas` con `NumPy`. Bien, dado que uso `Pandas` y `NumPy` a diario no me costó demasiado encontrar algunas cosas (quizá algo difusas) que estarían bien comentar o matizar. Sobre todo cuando vemos comparaciones de este estilo, ya que nos podemos quedar con alguna que otra idea errónea.\n",
    "\n",
    "A continuación voy a tratar de explicar cómo funciona `Pandas` y `NumPy` cuando hacemos llamadas del estilo:\n",
    "\n",
    "    In [0]: d = pd.DataFrame(...)\n",
    "    In [1]: d.sum()\n",
    "    In [2]: np.sum(d)\n",
    "\n",
    "De hecho, aunque nos pueda parecer trivial, cuando buscamos la máxima performance hacerlo de una u otra forma toma especial relevancia. Como podéis intuir, no es lo mismo hacer `d.sum()` que `np.sum(d)`. Otro apunte intersante, para los que no lo sabéis, los cálculos en `Pandas` se apoyan en `NumPy`, pero también en [`bottleneck`](https://github.com/kwgoodman/bottleneck) (y en el futuro quizá otras librerías), por ese motivo lo incluyo en esta comparativa, lo veremos con más detalle.\n",
    "\n",
    "<!-- PELICAN_END_SUMMARY -->"
   ]
  },
  {
   "cell_type": "code",
   "execution_count": 1,
   "metadata": {},
   "outputs": [],
   "source": [
    "# Dependencias\n",
    "# !pip install git+https://github.com/mmngreco/timer_plus.git\n",
    "# !pip install watermark\n",
    "# !pip install bottleneck"
   ]
  },
  {
   "cell_type": "code",
   "execution_count": 2,
   "metadata": {},
   "outputs": [],
   "source": [
    "%matplotlib inline\n",
    "from matplotlib import pyplot as plt\n",
    "import seaborn as sns\n",
    "import numpy as np\n",
    "import pandas as pd\n",
    "import bottleneck as bn\n",
    "import timer_plus as tp"
   ]
  },
  {
   "cell_type": "markdown",
   "metadata": {},
   "source": [
    "## Descripción del entorno y SO\n",
    "\n",
    "Esto siempre es un factor a tener en cuenta cuando se habla de performance."
   ]
  },
  {
   "cell_type": "code",
   "execution_count": 3,
   "metadata": {},
   "outputs": [],
   "source": [
    "%load_ext watermark"
   ]
  },
  {
   "cell_type": "code",
   "execution_count": 4,
   "metadata": {},
   "outputs": [
    {
     "name": "stdout",
     "output_type": "stream",
     "text": [
      "CPython 3.6.4\n",
      "IPython 6.2.1\n",
      "\n",
      "numpy 1.14.1\n",
      "scipy 1.0.0\n",
      "pandas 0.22.0\n",
      "bottleneck 1.2.1\n",
      "numexpr 2.6.4\n",
      "\n",
      "compiler   : GCC 4.2.1 Compatible Clang 4.0.1 (tags/RELEASE_401/final)\n",
      "system     : Darwin\n",
      "release    : 17.4.0\n",
      "machine    : x86_64\n",
      "processor  : i386\n",
      "CPU cores  : 4\n",
      "interpreter: 64bit\n"
     ]
    }
   ],
   "source": [
    "%watermark -v -m -p numpy,scipy,pandas,bottleneck,numexpr"
   ]
  },
  {
   "cell_type": "code",
   "execution_count": 5,
   "metadata": {},
   "outputs": [],
   "source": [
    "def get_data(constructor, shape, dtype):\n",
    "    arr = np.random.randint(0, 1000, shape).astype(dtype)\n",
    "    return constructor(arr)\n",
    "\n",
    "def timeit_results(name, stmt, data_name, repeats, globs):\n",
    "    \"\"\"Calcula el tiempo de un statement.\n",
    "    \n",
    "    Parameters\n",
    "    ----------\n",
    "    name : str\n",
    "        Nombre que se le quiere dar al statement.\n",
    "    stmt : str\n",
    "        Statement que se ejecutará.\n",
    "    data_name : str\n",
    "        Nombre de la variable que se usa como input en el \n",
    "        stmt.\n",
    "    repeats : int\n",
    "        Número de repeticiones que se ejecutará el stmt.\n",
    "    globs : dict\n",
    "        Diccionario con todas la variables necesarias para \n",
    "        que el stmt se pueda ejecutar.\n",
    "    \n",
    "    Returns\n",
    "    -------\n",
    "    time_results : pandas.DataFrame\n",
    "        Devuelve un pandas.DataFrame en formato long table \n",
    "        con columnas: time, stmt, N, name. La longitud será\n",
    "        igual a `repeats`.\n",
    "    \"\"\"\n",
    "    tmr = tp.Timer(stmt, globals=globs).repeat_autorange(repeats)\n",
    "    res = pd.DataFrame(tmr, columns=['time'])\n",
    "    res['stmt'] = stmt\n",
    "    res['N'] = \"{:.0e}\".format(globs[data_name].shape[0]).replace('e+0', '0^')\n",
    "    res['name'] = name\n",
    "    return res"
   ]
  },
  {
   "cell_type": "markdown",
   "metadata": {},
   "source": [
    "# Calculando tiempos"
   ]
  },
  {
   "cell_type": "markdown",
   "metadata": {},
   "source": [
    "En esta parte voy a construir un `DataFrame` en el que se guardan los tiempos (,nombre, statement, N) de ejecución de las siguiente llamadas:\n",
    "\n",
    "    >>> pandas_stmt = \"d.sum()\"\n",
    "    >>> numpy_stmt = \"np.nansum(d)\"\n",
    "    >>> pure_numpy_stmt = \"pd.Series(np.nansum(d.values), index=d.columns)\"\n",
    "    >>> bottleneck_stmt = \"pd.Series(bn.nansum(d.values), index=d.columns)\"\n",
    "\n",
    "Estas llamadas se explican con más detalle más abajo, de momento vamos a quedarnos con que son algunas de las posibles alternativas para calcular la `sum` de un `DataFrame` y que nos __devuelve el mismo objeto__ en los 4 casos.\n",
    "\n",
    "Para realizar la comparación de tiempos he usado la función `timeit_results` definida arriba, esta función usa un mini proyecto para poder hacer este tipo de comparaciones de forma más cómoda.\n"
   ]
  },
  {
   "cell_type": "code",
   "execution_count": 6,
   "metadata": {},
   "outputs": [],
   "source": [
    "# CALCULO DE TIEMPOS\n",
    "# ==================\n",
    "\n",
    "# Definimos las longitudes como potencias de 10 hasta 10^8\n",
    "N_list = np.power(10, np.arange(1, 9))\n",
    "repeats = 30\n",
    "dtype = np.int64\n",
    "data = get_data(pd.DataFrame, (max(N_list),1), dtype)\n",
    "\n",
    "# Statements\n",
    "pandas_stmt = \"d.sum()\"\n",
    "numpy_stmt = \"np.sum(d)\"\n",
    "pure_numpy_stmt = \"pd.Series(np.nansum(d.values), index=d.columns)\"\n",
    "bottleneck_stmt = \"pd.Series(bn.nansum(d.values), index=d.columns)\"\n",
    "\n",
    "# Variables usadas en los statements\n",
    "globs = {\"d\": data, \"np\": np, \"pd\": pd, \"data\": data, \"bn\": bn}\n",
    "\n",
    "results = []\n",
    "for N in N_list:\n",
    "    globs['d'] = data[:N:]\n",
    "    results += [timeit_results('pandas', pandas_stmt, 'd', repeats, globs)]\n",
    "    results += [timeit_results('numpy', numpy_stmt, 'd', repeats, globs)]\n",
    "    results += [timeit_results('pure_numpy', pure_numpy_stmt, 'd', repeats, globs)]\n",
    "    results += [timeit_results('botleneck', bottleneck_stmt, 'd', repeats, globs)]\n",
    "\n",
    "pd_results = pd.concat(results)"
   ]
  },
  {
   "cell_type": "markdown",
   "metadata": {},
   "source": [
    "Los statements (`stmt`) los he escrito de tal forma que devuelvan el mismo objeto, un `pandas.Series` en este caso dado que es lo que devuelve `d.sum()`. De esta forma nos aseguramos de que el usuario de `pandas` tiene como resultado el mismo objeto y los tiempos son comparables entre sí."
   ]
  },
  {
   "cell_type": "code",
   "execution_count": 7,
   "metadata": {},
   "outputs": [
    {
     "data": {
      "text/html": [
       "<div>\n",
       "<style scoped>\n",
       "    .dataframe tbody tr th:only-of-type {\n",
       "        vertical-align: middle;\n",
       "    }\n",
       "\n",
       "    .dataframe tbody tr th {\n",
       "        vertical-align: top;\n",
       "    }\n",
       "\n",
       "    .dataframe thead th {\n",
       "        text-align: right;\n",
       "    }\n",
       "</style>\n",
       "<table border=\"1\" class=\"dataframe\">\n",
       "  <thead>\n",
       "    <tr style=\"text-align: right;\">\n",
       "      <th></th>\n",
       "      <th>time</th>\n",
       "      <th>stmt</th>\n",
       "      <th>N</th>\n",
       "      <th>name</th>\n",
       "    </tr>\n",
       "  </thead>\n",
       "  <tbody>\n",
       "    <tr>\n",
       "      <th>0</th>\n",
       "      <td>0.000266</td>\n",
       "      <td>d.sum()</td>\n",
       "      <td>10^1</td>\n",
       "      <td>pandas</td>\n",
       "    </tr>\n",
       "    <tr>\n",
       "      <th>1</th>\n",
       "      <td>0.000208</td>\n",
       "      <td>d.sum()</td>\n",
       "      <td>10^1</td>\n",
       "      <td>pandas</td>\n",
       "    </tr>\n",
       "    <tr>\n",
       "      <th>2</th>\n",
       "      <td>0.000209</td>\n",
       "      <td>d.sum()</td>\n",
       "      <td>10^1</td>\n",
       "      <td>pandas</td>\n",
       "    </tr>\n",
       "    <tr>\n",
       "      <th>3</th>\n",
       "      <td>0.000206</td>\n",
       "      <td>d.sum()</td>\n",
       "      <td>10^1</td>\n",
       "      <td>pandas</td>\n",
       "    </tr>\n",
       "    <tr>\n",
       "      <th>4</th>\n",
       "      <td>0.000198</td>\n",
       "      <td>d.sum()</td>\n",
       "      <td>10^1</td>\n",
       "      <td>pandas</td>\n",
       "    </tr>\n",
       "  </tbody>\n",
       "</table>\n",
       "</div>"
      ],
      "text/plain": [
       "       time     stmt     N    name\n",
       "0  0.000266  d.sum()  10^1  pandas\n",
       "1  0.000208  d.sum()  10^1  pandas\n",
       "2  0.000209  d.sum()  10^1  pandas\n",
       "3  0.000206  d.sum()  10^1  pandas\n",
       "4  0.000198  d.sum()  10^1  pandas"
      ]
     },
     "execution_count": 7,
     "metadata": {},
     "output_type": "execute_result"
    }
   ],
   "source": [
    "pd_results.head()"
   ]
  },
  {
   "cell_type": "markdown",
   "metadata": {},
   "source": [
    "Donde:\n",
    "\n",
    "- *time* es el tiempo medio en segundos. \n",
    "- *stmt* es la línea de código que se ejecutará. \n",
    "- *N* es la longitud de los datos.\n",
    "- *name* es un alias más amigable del statement. "
   ]
  },
  {
   "cell_type": "markdown",
   "metadata": {},
   "source": [
    "## Resultados\n",
    "\n",
    "Con el `DataFrame` en [long form](https://medium.com/@andykashyap/how-to-convert-a-table-into-long-form-or-tidy-form-for-seaborn-visualizations-2bd8b44cdc29) anterior voy a construir una tabla resumen de los tiempos medios y desviación típica para cada longitud del `DataFrame` pasado como input y un nombre (no es mas que un alias del `statement`)."
   ]
  },
  {
   "cell_type": "code",
   "execution_count": 8,
   "metadata": {},
   "outputs": [],
   "source": [
    "def mu_std(x):\n",
    "    \"\"\"Imprime la media (std).\n",
    "    \n",
    "    Sólo funciona en python36\n",
    "    \n",
    "    Parameters\n",
    "    ----------\n",
    "    x : array-like\n",
    "    \n",
    "    Returns\n",
    "    -------\n",
    "    mu_std : str\n",
    "    \"\"\"\n",
    "    mu = np.mean(x)\n",
    "    std = np.std(x)\n",
    "    return f\"{mu:.6f} ({std:.6f})\""
   ]
  },
  {
   "cell_type": "code",
   "execution_count": 9,
   "metadata": {},
   "outputs": [
    {
     "data": {
      "text/html": [
       "<div>\n",
       "<style scoped>\n",
       "    .dataframe tbody tr th:only-of-type {\n",
       "        vertical-align: middle;\n",
       "    }\n",
       "\n",
       "    .dataframe tbody tr th {\n",
       "        vertical-align: top;\n",
       "    }\n",
       "\n",
       "    .dataframe thead th {\n",
       "        text-align: right;\n",
       "    }\n",
       "</style>\n",
       "<table border=\"1\" class=\"dataframe\">\n",
       "  <thead>\n",
       "    <tr style=\"text-align: right;\">\n",
       "      <th>name</th>\n",
       "      <th>botleneck</th>\n",
       "      <th>numpy</th>\n",
       "      <th>pandas</th>\n",
       "      <th>pure_numpy</th>\n",
       "    </tr>\n",
       "    <tr>\n",
       "      <th>N</th>\n",
       "      <th></th>\n",
       "      <th></th>\n",
       "      <th></th>\n",
       "      <th></th>\n",
       "    </tr>\n",
       "  </thead>\n",
       "  <tbody>\n",
       "    <tr>\n",
       "      <th>10^1</th>\n",
       "      <td>0.000094 (0.000003)</td>\n",
       "      <td>0.000208 (0.000009)</td>\n",
       "      <td>0.000203 (0.000014)</td>\n",
       "      <td>0.000109 (0.000005)</td>\n",
       "    </tr>\n",
       "    <tr>\n",
       "      <th>10^2</th>\n",
       "      <td>0.000096 (0.000005)</td>\n",
       "      <td>0.000227 (0.000036)</td>\n",
       "      <td>0.000195 (0.000006)</td>\n",
       "      <td>0.000112 (0.000005)</td>\n",
       "    </tr>\n",
       "    <tr>\n",
       "      <th>10^3</th>\n",
       "      <td>0.000096 (0.000004)</td>\n",
       "      <td>0.000219 (0.000010)</td>\n",
       "      <td>0.000206 (0.000010)</td>\n",
       "      <td>0.000112 (0.000006)</td>\n",
       "    </tr>\n",
       "    <tr>\n",
       "      <th>10^4</th>\n",
       "      <td>0.000107 (0.000004)</td>\n",
       "      <td>0.000262 (0.000008)</td>\n",
       "      <td>0.000244 (0.000009)</td>\n",
       "      <td>0.000141 (0.000015)</td>\n",
       "    </tr>\n",
       "    <tr>\n",
       "      <th>10^5</th>\n",
       "      <td>0.000167 (0.000007)</td>\n",
       "      <td>0.000693 (0.000013)</td>\n",
       "      <td>0.000677 (0.000015)</td>\n",
       "      <td>0.000273 (0.000007)</td>\n",
       "    </tr>\n",
       "    <tr>\n",
       "      <th>10^6</th>\n",
       "      <td>0.001121 (0.000047)</td>\n",
       "      <td>0.008130 (0.000179)</td>\n",
       "      <td>0.008092 (0.000125)</td>\n",
       "      <td>0.004545 (0.000105)</td>\n",
       "    </tr>\n",
       "    <tr>\n",
       "      <th>10^7</th>\n",
       "      <td>0.008969 (0.000172)</td>\n",
       "      <td>0.075049 (0.001520)</td>\n",
       "      <td>0.080686 (0.027643)</td>\n",
       "      <td>0.045551 (0.001036)</td>\n",
       "    </tr>\n",
       "    <tr>\n",
       "      <th>10^8</th>\n",
       "      <td>0.084068 (0.001555)</td>\n",
       "      <td>1.227781 (0.067859)</td>\n",
       "      <td>1.463971 (0.755026)</td>\n",
       "      <td>0.893592 (0.021614)</td>\n",
       "    </tr>\n",
       "  </tbody>\n",
       "</table>\n",
       "</div>"
      ],
      "text/plain": [
       "name            botleneck                numpy               pandas  \\\n",
       "N                                                                     \n",
       "10^1  0.000094 (0.000003)  0.000208 (0.000009)  0.000203 (0.000014)   \n",
       "10^2  0.000096 (0.000005)  0.000227 (0.000036)  0.000195 (0.000006)   \n",
       "10^3  0.000096 (0.000004)  0.000219 (0.000010)  0.000206 (0.000010)   \n",
       "10^4  0.000107 (0.000004)  0.000262 (0.000008)  0.000244 (0.000009)   \n",
       "10^5  0.000167 (0.000007)  0.000693 (0.000013)  0.000677 (0.000015)   \n",
       "10^6  0.001121 (0.000047)  0.008130 (0.000179)  0.008092 (0.000125)   \n",
       "10^7  0.008969 (0.000172)  0.075049 (0.001520)  0.080686 (0.027643)   \n",
       "10^8  0.084068 (0.001555)  1.227781 (0.067859)  1.463971 (0.755026)   \n",
       "\n",
       "name           pure_numpy  \n",
       "N                          \n",
       "10^1  0.000109 (0.000005)  \n",
       "10^2  0.000112 (0.000005)  \n",
       "10^3  0.000112 (0.000006)  \n",
       "10^4  0.000141 (0.000015)  \n",
       "10^5  0.000273 (0.000007)  \n",
       "10^6  0.004545 (0.000105)  \n",
       "10^7  0.045551 (0.001036)  \n",
       "10^8  0.893592 (0.021614)  "
      ]
     },
     "execution_count": 9,
     "metadata": {},
     "output_type": "execute_result"
    }
   ],
   "source": [
    "pd_results.pivot_table(index='N', values='time', columns=['name'], aggfunc=mu_std)"
   ]
  },
  {
   "cell_type": "markdown",
   "metadata": {},
   "source": [
    "> _Tabla 1: Tiempos por statement y longitud del DataFrame._\n",
    "\n",
    "La tabla muestra la media de los tiempos en segundos de cada statement. Entre paréntesis se encuentran las desviaciones típicas. Dado que una imagen vale más que mil palabras, que hable `seaborn`:"
   ]
  },
  {
   "cell_type": "code",
   "execution_count": 10,
   "metadata": {},
   "outputs": [
    {
     "data": {
      "image/png": "[encoded data removed]",
      "text/plain": [
       "<matplotlib.figure.Figure at 0x1a149dc160>"
      ]
     },
     "metadata": {},
     "output_type": "display_data"
    }
   ],
   "source": [
    "g = sns.factorplot(x='name', y='time', data=pd_results, hue='stmt', size=4, col='N', sharey=False, sharex=False, aspect=0.5, kind='point', legend=False)\n",
    "for ax in g.axes.flat:\n",
    "    labels = ax.get_xticklabels()\n",
    "    for l in labels:\n",
    "        l.update(dict(rotation=90))\n",
    "    ax.grid(True)\n",
    "plt.legend(bbox_to_anchor=(0.1,1.03), loc=\"lower left\", bbox_transform=g.fig.transFigure, ncol=4)\n",
    "g.fig.tight_layout()"
   ]
  },
  {
   "cell_type": "markdown",
   "metadata": {},
   "source": [
    "> _Gráfico 1: Scatter de la media de los tiempos de ejecución por statement y tamaño del DataFrame._\n",
    "\n",
    "> Nota: Recordemos que `d` es un `pandas.DataFrame`. \n",
    "\n",
    "El gráfico 1 muestra en el eje de las abscisas los nombres de los statements y en el eje de las ordenadas los tiempos en segundos. Los gráficos están separados por tamaño del `DataFrame`, esto es debido a que hay mucha diferencia entre los tiempos en los extremos de N, y si los pintamos en un mismo gráfico no podríamos apreciar los detalles de cada caso.\n",
    "\n",
    "Lo primero que resalta del gráfico 1 son los tiempos de los casos llamados _pandas_ y _numpy_, los cuales contrastan con los *pure_numpy* y _bottleneck_. Si vamos un poco más al detalle, _numpy_ (con el statement `np.nansum(d)`), es más lenta que la versión _pandas_, `d.sum()`, sin embargo, _numpy_ va alcanzando a _pandas_ a medida que aumenta N, hasta el punto en el que se invierten las posiciones, esto ocurre a partir del tamaño N=10^6, esto sólo es en media. Los tiempos varían mucho más en el caso _pandas_, y se aprecia en las barras de error que se aprecian claramente para los tamaños grandes.\n",
    "\n",
    "Por otra parte, las implementaciones *pure_numpy* y _bottleneck_ se encuentran en las primeras posiciones del ranking de performance, que son con diferencia mucho más rápidas que las anteriores. La pega está en que las implementaciones no son tan \"high level\" como las otras, tenemos que acceder al `values`, llamar a la función correspondiente en `numpy`/`bottleneck` y luego envolverlo todo en `Pandas`. Es curioso como el caso *pure_numpy* se aleja de _bottleneck_ a medida que aumenta N, especialmente notorio a partir de N=10^5.\n",
    "\n",
    "Fijaos que claro, en `Pandas` son muy listos al usar `Bottleneck` siempre que sea posible, porque al final la \"lucha\" está entre `NumPy` y `Bottleneck`."
   ]
  },
  {
   "cell_type": "markdown",
   "metadata": {},
   "source": [
    "# Interpretando los statements:"
   ]
  },
  {
   "cell_type": "code",
   "execution_count": 11,
   "metadata": {},
   "outputs": [],
   "source": [
    "import inspect\n",
    "\n",
    "def print_code(func, no_lines=None):\n",
    "    \"\"\"Imprime el código de la función o modulo.\n",
    "    \n",
    "    Parameters\n",
    "    ----------\n",
    "    func : function or module\n",
    "    no_lines : list\n",
    "        Una lista de enteros.\n",
    "    \n",
    "    Returns\n",
    "    -------\n",
    "    None\n",
    "    \"\"\"\n",
    "    print('file:',inspect.getfile(func))\n",
    "    lines = inspect.getsourcelines(func)\n",
    "    for i, line in enumerate(lines[0]):\n",
    "        if no_lines is not None:\n",
    "            if i not in no_lines:\n",
    "                continue\n",
    "        print(i, '\\t', line.strip('\\n'))"
   ]
  },
  {
   "cell_type": "markdown",
   "metadata": {},
   "source": [
    "## Caso Pandas\n",
    "\n",
    "La lógica de `Pandas` es más complicada, y no es tan inmediato de ver en el código como en el caso de `NumPy` (explicado en el siguiente apartado). Lo podríamos resumir en lo siguiente:\n",
    "\n",
    "    >>> d = pd.DataFrame(...)\n",
    "    >>> d.sum()  -->  np.nansum(d.values) --> d.values.sum()\n",
    "                 ^^^\n",
    "    Pandas llama a numpy.nansum (o bottleneck.nansum) en nanops.py\n",
    "\n",
    "Cuando invocamos al método `.sum()` de `Pandas`, por defecto, tanto las `Series` como los `DataFrames`, usan la función `nanops.nansum` de `Pandas` que heredan de la clase `NDFrame`:"
   ]
  },
  {
   "cell_type": "code",
   "execution_count": 12,
   "metadata": {},
   "outputs": [
    {
     "name": "stdout",
     "output_type": "stream",
     "text": [
      "file: /Users/mmngreco/miniconda3/lib/python3.6/site-packages/pandas/core/generic.py\n",
      "97 \t class NDFrame(PandasObject, SelectionMixin):\n",
      "6990 \t         cls.sum = _make_min_count_stat_function(\n",
      "6991 \t             cls, 'sum', name, name2, axis_descr,\n",
      "6992 \t             'Return the sum of the values for the requested axis',\n",
      "6993 \t             nanops.nansum, _sum_examples)\n"
     ]
    }
   ],
   "source": [
    "print_code(pd.core.generic, [97,6990, 6991, 6992, 6993])"
   ]
  },
  {
   "cell_type": "markdown",
   "metadata": {},
   "source": [
    "Arriba puede verse que en la clase `NDFrame` se define el método `sum` como un alias de `nanops.nansum` en la última línea y `nanops.nansum` hace lo siguiente:"
   ]
  },
  {
   "cell_type": "code",
   "execution_count": 13,
   "metadata": {},
   "outputs": [
    {
     "name": "stdout",
     "output_type": "stream",
     "text": [
      "file: /Users/mmngreco/miniconda3/lib/python3.6/site-packages/pandas/core/nanops.py\n",
      "0 \t @disallow('M8')\n",
      "1 \t @bottleneck_switch()\n",
      "2 \t def nansum(values, axis=None, skipna=True, min_count=0):\n",
      "3 \t     values, mask, dtype, dtype_max = _get_values(values, skipna, 0)\n",
      "4 \t     dtype_sum = dtype_max\n",
      "5 \t     if is_float_dtype(dtype):\n",
      "6 \t         dtype_sum = dtype\n",
      "7 \t     elif is_timedelta64_dtype(dtype):\n",
      "8 \t         dtype_sum = np.float64\n",
      "9 \t     the_sum = values.sum(axis, dtype=dtype_sum)\n",
      "10 \t     the_sum = _maybe_null_out(the_sum, axis, mask, min_count=min_count)\n",
      "11 \t \n",
      "12 \t     return _wrap_results(the_sum, dtype)\n"
     ]
    }
   ],
   "source": [
    "print_code(pd.core.nanops.nansum)"
   ]
  },
  {
   "cell_type": "markdown",
   "metadata": {},
   "source": [
    "Lo que hace esta función, `pandas.core.nanops.nansum`, es comprobar si es posible usar `bottleneck` (ver decorador línea 1) y si no, llama al método `sum` de `values`, es decir, llama a `numpy.nansum` (ver línea 9) (ver línea 6993 de `pandas.core.generic`) y nos devuelve el resultado."
   ]
  },
  {
   "cell_type": "markdown",
   "metadata": {},
   "source": [
    "## Caso numpy\n",
    "\n",
    "    numpy_stmt : np.sum(d)\n",
    "\n",
    "¿Qué hace `numpy` en este caso? Veamos el código:\n"
   ]
  },
  {
   "cell_type": "code",
   "execution_count": 14,
   "metadata": {},
   "outputs": [
    {
     "name": "stdout",
     "output_type": "stream",
     "text": [
      "file: /Users/mmngreco/miniconda3/lib/python3.6/site-packages/numpy/core/fromnumeric.py\n",
      "0 \t def sum(a, axis=None, dtype=None, out=None, keepdims=np._NoValue):\n",
      "87 \t     kwargs = {}\n",
      "88 \t     if keepdims is not np._NoValue:\n",
      "89 \t         kwargs['keepdims'] = keepdims\n",
      "90 \t     if isinstance(a, _gentype):\n",
      "91 \t         res = _sum_(a)\n",
      "92 \t         if out is not None:\n",
      "93 \t             out[...] = res\n",
      "94 \t             return out\n",
      "95 \t         return res\n",
      "96 \t     if type(a) is not mu.ndarray:\n",
      "97 \t         try:\n",
      "98 \t             sum = a.sum\n",
      "99 \t         except AttributeError:\n",
      "100 \t             pass\n",
      "101 \t         else:\n",
      "102 \t             return sum(axis=axis, dtype=dtype, out=out, **kwargs)\n",
      "103 \t     return _methods._sum(a, axis=axis, dtype=dtype,\n",
      "104 \t                          out=out, **kwargs)\n"
     ]
    }
   ],
   "source": [
    "print_code(np.sum, no_lines=[0, *range(87,105)])"
   ]
  },
  {
   "cell_type": "markdown",
   "metadata": {},
   "source": [
    "Aquí la clave está en las líneas 96-98: primero `numpy.sum` comprueba si el objeto que ha recibido NO ES un `ndarray` (línea 96), si no lo es,  intenta acceder al método `.sum()` del objeto. En nuestro caso, el objeto es un `pandas.DataFrame` y por tanto entra en el condicional (no es un `ndarray`) y llama al `d.sum()` que tenga implementado `Pandas`. \n",
    "\n",
    "El esquema sería algo como lo siguiente:\n",
    "\n",
    "    >>> d = pd.DataFrame(...)\n",
    "    >>> np.sum(d) --> d.sum() --> np.nansum(d.values) --> d.values._sum()\n"
   ]
  },
  {
   "cell_type": "markdown",
   "metadata": {},
   "source": [
    "## Caso pure_numpy\n",
    "\n",
    "    pure_numpy_stmt : pd.Series(np.nansum(d.values), index=d.columns)\n",
    "\n",
    "El caso pure_numpy es lo que se llamaría _\"ir al grano\"_. En este caso sabemos lo que hacen las librerías y se lo ponemos fácil:\n",
    "    \n",
    "    >>> d = pd.DataFrame\n",
    "    >>> pd.Series(\n",
    "            np.nansum(d.values),   # en numpy directamente\n",
    "            index=d.columns\n",
    "            )\n"
   ]
  },
  {
   "cell_type": "markdown",
   "metadata": {},
   "source": [
    "## Caso bottleneck\n",
    "\n",
    "    bottleneck_stmt : pd.Series(bn.nansum(d.values), index=d.columns)\n",
    "\n",
    "Este paso ahorra muchas llamadas intermedias si `Pandas` puede usar `Bottleneck`.\n",
    "\n",
    "    >>> d = pd.DataFrame\n",
    "    >>> pd.Series(\n",
    "            bn.nansum(d.values),  # en bottleneck directamente\n",
    "            index=d.columns\n",
    "            )\n",
    "            \n",
    "\n",
    "> Nota: Dado que sabemos que no tenemos `NaNs` podríamos ir un paso más allá y aplicar la `np.sum`, pero estaríamos siendo injustos con `Pandas`.\n",
    "\n",
    "> Nota 2: En el caso de la suma, `Pandas` no usa `Bottleneck` (más detalles en el siguiente apartado)."
   ]
  },
  {
   "cell_type": "markdown",
   "metadata": {},
   "source": [
    "# El papel de `Bottleneck` en `Pandas`\n",
    "\n",
    "Como hemos comentado antes, `Pandas` usa para algunos cálculos `Bottleneck` en lugar de `NumPy`, esto es debido a que `bottleneck` tiene un conjunto de funciones que gestionan `NaNs` implementadas en C, lo cual le dota de una gran velocidad de cálculo. Las funciones que tratan hacer uso de `Bottleneck` son las siguientes:\n",
    "\n",
    "- `mean`\n",
    "- `median`\n",
    "- `std`\n",
    "- `var`\n",
    "- `min`\n",
    "- `max`\n",
    "\n",
    "Esto lo podemos ver en `pandas.core.nanops`, todas la funciones que usan el decorador `@bottleneck_switch` intentarán usar `Bottleneck` para realizar la operación.\n",
    "\n",
    "Si tenéis curiosidad por este decorador os lo dejo por aquí:"
   ]
  },
  {
   "cell_type": "code",
   "execution_count": 15,
   "metadata": {},
   "outputs": [
    {
     "name": "stdout",
     "output_type": "stream",
     "text": [
      "file: /Users/mmngreco/miniconda3/lib/python3.6/site-packages/pandas/core/nanops.py\n",
      "89 \t class bottleneck_switch(object):\n",
      "118 \t                 if (_USE_BOTTLENECK and skipna and\n",
      "119 \t                         _bn_ok_dtype(values.dtype, bn_name)):\n",
      "120 \t                     result = bn_func(values, axis=axis, **kwds)\n",
      "121 \t \n",
      "122 \t                     # prefer to treat inf/-inf as NA, but must compute the func\n",
      "123 \t                     # twice :(\n",
      "124 \t                     if _has_infs(result):\n",
      "125 \t                         result = alt(values, axis=axis, skipna=skipna, **kwds)\n",
      "126 \t                 else:\n",
      "127 \t                     result = alt(values, axis=axis, skipna=skipna, **kwds)\n",
      "128 \t             except Exception:\n",
      "129 \t                 try:\n",
      "130 \t                     result = alt(values, axis=axis, skipna=skipna, **kwds)\n",
      "131 \t                 except ValueError as e:\n",
      "132 \t                     # we want to transform an object array\n",
      "133 \t                     # ValueError message to the more typical TypeError\n",
      "134 \t                     # e.g. this is normally a disallowed function on\n",
      "135 \t                     # object arrays that contain strings\n",
      "136 \t \n",
      "137 \t                     if is_object_dtype(values):\n",
      "138 \t                         raise TypeError(e)\n",
      "139 \t                     raise\n",
      "140 \t \n",
      "141 \t             return result\n",
      "142 \t \n",
      "143 \t         return f\n"
     ]
    }
   ],
   "source": [
    "print_code(pd.core.nanops, [89,*range(118,144)])"
   ]
  },
  {
   "cell_type": "markdown",
   "metadata": {},
   "source": [
    "Ahora ya sabéis qué ocurre en `Pandas` y `NumPy` por debajo cuando se hacen las llamadas que hemos visto. `Pandas`, a medida que aumenta el tamaño de los datos, se vuelve más eficiente, sin embargo, en ningún caso, gana a una implementación \"ad hoc\" como las *pure_numpy* o *bottleneck*. Siempre se puede atajar, pero `Pandas` lo hace muy bien en general, no nos tenemos que preocupar de si lo que devuelve es una `Serie`, `DataFrame`, `array`, `int`, `float`, etc, nos devuelve lo que tiene que ser, y por si fuera poco sin preocuparnos por los índices, columnas, nombres, dtypes... si lo miramos todo en conjunto no está nada mal.\n",
    "\n",
    "That's all folks!"
   ]
  },
  {
   "cell_type": "code",
   "execution_count": null,
   "metadata": {},
   "outputs": [],
   "source": []
  }
 ],
 "metadata": {
  "kernelspec": {
   "display_name": "Python 3",
   "language": "python",
   "name": "python3"
  },
  "language_info": {
   "codemirror_mode": {
    "name": "ipython",
    "version": 3
   },
   "file_extension": ".py",
   "mimetype": "text/x-python",
   "name": "python",
   "nbconvert_exporter": "python",
   "pygments_lexer": "ipython3",
   "version": "3.6.5"
  }
 },
 "nbformat": 4,
 "nbformat_minor": 2
}
